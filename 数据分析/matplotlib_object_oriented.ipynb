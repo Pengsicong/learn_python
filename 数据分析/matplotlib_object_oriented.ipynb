{
 "cells": [
  {
   "cell_type": "markdown",
   "metadata": {},
   "source": [
    "尽管函数式绘图很便利，但利用函数式编程会有以下缺点：\n",
    "\n",
    "1) 增加了一层“函数”调用，降低了效率。\n",
    "\n",
    "2) 隶属关系被函数掩盖。整个matplotlib包是由一系列有组织有隶属关系的对象构成的。函数掩盖了原有的隶属关系，将事情变得复杂。\n",
    "\n",
    "3) 细节被函数掩盖。pyplot并不能完全复制对象体系的所有功能，图像的许多细节调中最终还要回到对象。\n",
    "\n",
    "4) 每件事情都可以有至少两种方式完成，用户很容易混淆。\n",
    "\n",
    "而对于开发者来说，了解对象是参与到Matplotlib项目的第一步。\n",
    "\n",
    "\n",
    "\n",
    "我们将上面的直线绘图更改为面向对象式(OO, object-oriented)的，为此，我们引入两个类: Figure和FigureCanvas。(函数式编程也调用了这些类，只是调用的过程被函数调用所遮掩。)"
   ]
  },
  {
   "cell_type": "code",
   "execution_count": 7,
   "metadata": {},
   "outputs": [],
   "source": [
    "from matplotlib.figure import Figure\n",
    "from matplotlib.backends.backend_agg import FigureCanvasAgg as FigureCanvas\n",
    "\n",
    "fig = Figure()\n",
    "canvas = FigureCanvas(fig)\n",
    "ax = fig.add_axes([0.1, 0.1, 0.8, 0.8])\n",
    "\n",
    "line = ax.plot([0, 1], [0, 1])\n",
    "ax.set_title(\"a straight line (OO)\")\n",
    "ax.set_xlabel(\"x value\")\n",
    "ax.set_ylabel(\"y value\")\n",
    "\n",
    "canvas.print_figure('demo2.jpg')"
   ]
  },
  {
   "cell_type": "code",
   "execution_count": 8,
   "metadata": {},
   "outputs": [],
   "source": [
    "fig    = Figure()\n",
    "canvas = FigureCanvas(fig)\n",
    "\n",
    "# first axes\n",
    "ax1    = fig.add_axes([0.1, 0.1, 0.2, 0.2])\n",
    "line,  = ax1.plot([0,1], [0,1])\n",
    "ax1.set_title(\"ax1\")\n",
    "\n",
    "# second axes\n",
    "ax2    = fig.add_axes([0.4, 0.3, 0.4, 0.5])\n",
    "sca    = ax2.scatter([1,3,5],[2,1,2])\n",
    "ax2.set_title(\"ax2\")\n",
    "\n",
    "canvas.print_figure('demo3.jpg')"
   ]
  },
  {
   "cell_type": "code",
   "execution_count": null,
   "metadata": {},
   "outputs": [],
   "source": []
  }
 ],
 "metadata": {
  "kernelspec": {
   "display_name": "Python 3",
   "language": "python",
   "name": "python3"
  },
  "language_info": {
   "codemirror_mode": {
    "name": "ipython",
    "version": 3
   },
   "file_extension": ".py",
   "mimetype": "text/x-python",
   "name": "python",
   "nbconvert_exporter": "python",
   "pygments_lexer": "ipython3",
   "version": "3.5.2"
  }
 },
 "nbformat": 4,
 "nbformat_minor": 2
}
